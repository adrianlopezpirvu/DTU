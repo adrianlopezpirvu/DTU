{
 "cells": [
  {
   "cell_type": "code",
   "execution_count": 1,
   "metadata": {},
   "outputs": [],
   "source": [
    "import numpy as np \n",
    "import matplotlib.pyplot as plt\n",
    "from scipy.stats import norm, binom\n",
    "from scipy.optimize import minimize"
   ]
  },
  {
   "cell_type": "markdown",
   "metadata": {},
   "source": [
    "# 1. Cargamos los datos"
   ]
  },
  {
   "cell_type": "code",
   "execution_count": 2,
   "metadata": {},
   "outputs": [],
   "source": [
    "data=np.array([[1,20], [6,12],[6,18],[5,20]])\n",
    "N_trials=20"
   ]
  },
  {
   "cell_type": "markdown",
   "metadata": {},
   "source": [
    "# 2. Early strong fusion model"
   ]
  },
  {
   "cell_type": "code",
   "execution_count": 31,
   "metadata": {},
   "outputs": [],
   "source": [
    "def pyscometric(I, c, sigma):\n",
    "    return norm.cdf((I-c)/sigma)"
   ]
  },
  {
   "cell_type": "code",
   "execution_count": 4,
   "metadata": {},
   "outputs": [],
   "source": [
    "def weight(sigma_a, sigma_v):\n",
    "    wa= sigma_v**2/(sigma_a**2 + sigma_v**2)\n",
    "    return wa\n",
    "def mu_av_trans(mu_a, mu_v, sigma_a, sigma_v):\n",
    "    wa=weight(sigma_a, sigma_v)\n",
    "    t=wa*mu_a +(1-wa)*mu_v\n",
    "    return t\n",
    "\n",
    "def sigma_av_trans(sigma_a, sigma_v):\n",
    "    wa=weight(sigma_a, sigma_v)\n",
    "    t=wa**2*sigma_a**2 + (1-wa)**2*sigma_v**2\n",
    "    t=np.sqrt(t)\n",
    "    return t\n",
    "def pyscometric_audiovisual(mu_av, sigma_av):\n",
    "    return norm.cdf(mu_av/sigma_av)"
   ]
  },
  {
   "cell_type": "code",
   "execution_count": 40,
   "metadata": {},
   "outputs": [],
   "source": [
    "def negative_log_likelihood(params, data, N_trial):\n",
    "    mu_a_tilde = np.array([0,1]) - params[0]\n",
    "    mu_v_tilde = np.array([0,1]) - params[1]\n",
    "    sigma_a = np.exp(params[2])\n",
    "    sigma_v = np.exp(params[3])\n",
    "    p_est = np.zeros((4, 2))\n",
    "\n",
    "    p_est[0, :] = norm.cdf(mu_a_tilde / sigma_a)\n",
    "    p_est[1, :] = norm.cdf(mu_v_tilde / sigma_v)\n",
    "    w_a = sigma_v**2 / (sigma_a**2 + sigma_v**2)\n",
    "    sigma_av = np.sqrt((sigma_a**2 * sigma_v**2) / (sigma_a**2 + sigma_v**2))\n",
    "\n",
    "    for a in range(2):\n",
    "        for v in range(2):\n",
    "            mu_av_tilde = w_a * mu_a_tilde[a] + (1 - w_a) * mu_v_tilde[v]\n",
    "            p_est[v + 2, a] = norm.cdf(mu_av_tilde / sigma_av)\n",
    "    NegLL = 0\n",
    "    for r in range(4):\n",
    "        for c in range(2):\n",
    "            NegLL -= np.log(binom.pmf(data[r, c], N_trial, p_est[r, c]))\n",
    "    return NegLL"
   ]
  },
  {
   "cell_type": "code",
   "execution_count": 41,
   "metadata": {},
   "outputs": [
    {
     "name": "stdout",
     "output_type": "stream",
     "text": [
      "c_a: 0.30673862754524633\n",
      "c_v: 0.6048262945007794\n",
      "sigma_a: 0.3598265558921032\n",
      "sigma_v: 1.19419726219342\n",
      "NegLL: 13.397682943464504\n"
     ]
    }
   ],
   "source": [
    "data = np.array([[1, 20], [6, 12], [6, 18], [5, 20]])\n",
    "N_trial=20\n",
    "Nparams = 4\n",
    "params0 = np.random.rand(Nparams) - 0.5\n",
    "\n",
    "options = {'maxiter': 1e5, 'disp': False}\n",
    "\n",
    "result = minimize(negative_log_likelihood, params0, args=(data,N_trial), options=options)\n",
    "\n",
    "params = result.x\n",
    "c_a = params[0]\n",
    "c_v = params[1]\n",
    "sigma_a = np.exp(params[2])\n",
    "sigma_v = np.exp(params[3])\n",
    "NegLL = result.fun\n",
    "\n",
    "print(f\"c_a: {c_a}\")\n",
    "print(f\"c_v: {c_v}\")\n",
    "print(f\"sigma_a: {sigma_a}\")\n",
    "print(f\"sigma_v: {sigma_v}\")\n",
    "print(f\"NegLL: {NegLL}\")"
   ]
  },
  {
   "cell_type": "code",
   "execution_count": 7,
   "metadata": {},
   "outputs": [
    {
     "name": "stdout",
     "output_type": "stream",
     "text": [
      "27.949215203768595\n"
     ]
    }
   ],
   "source": [
    "NLL=negative_log_likelihood(optimized_parameters.x, data, N_trials)\n",
    "print(NLL)"
   ]
  },
  {
   "cell_type": "code",
   "execution_count": 34,
   "metadata": {},
   "outputs": [
    {
     "name": "stdout",
     "output_type": "stream",
     "text": [
      "mu [1 2]\n",
      "mu_a[1 2]\n",
      "c_a 1.3067386537825676\n",
      "mu_a_gorro[-0.30673865  0.69326135]\n",
      "mu_v_gorro[-0.60482612  0.39517388]\n",
      "[0.16794119287629744, 0.2355325220501578]\n",
      "[0.9553041282458906, 0.9738223502459005]\n",
      "68.51091109001565\n"
     ]
    }
   ],
   "source": [
    "solucion_profe=[1.3067386537825676,0.3598265252980718,1.6048261189683979, 1.1941963731473209]\n",
    "NLL=negative_log_likelihood(solucion_profe, data, N_trials)\n",
    "print(NLL)"
   ]
  },
  {
   "cell_type": "markdown",
   "metadata": {},
   "source": [
    "# 2. Strong fusion probability matching model"
   ]
  },
  {
   "cell_type": "code",
   "execution_count": 8,
   "metadata": {},
   "outputs": [],
   "source": [
    "def softmax(z,N_trial):\n",
    "    return np.exp(z/N_trial)/(np.exp(z/N_trial)+1) #Ya que solo hay dos response probabilities"
   ]
  },
  {
   "cell_type": "code",
   "execution_count": 9,
   "metadata": {},
   "outputs": [],
   "source": [
    "def prob_av(z_a, z_v, N_trial):\n",
    "    num=softmax(z_a, N_trial)*softmax(z_v, N_trial)\n",
    "    dem=num + softmax((N_trial-z_a),N_trial)*softmax((N_trial -z_v),N_trial)\n",
    "    return num/dem"
   ]
  },
  {
   "cell_type": "code",
   "execution_count": 43,
   "metadata": {},
   "outputs": [],
   "source": [
    "def negative_log_likelihood(params, data, N_trial):\n",
    "    pa = np.exp(params[0:2]) / (np.exp(params[0:2]) + 1)\n",
    "    pv = np.exp(params[2:4]) / (np.exp(params[2:4]) + 1)\n",
    "\n",
    "    pav = np.zeros((2, 2))\n",
    "\n",
    "    for a in range(2):\n",
    "        for v in range(2):\n",
    "            pav[v, a] = pa[a] * pv[v] / (pa[a] * pv[v] + (1 - pa[a]) * (1 - pv[v]))\n",
    "\n",
    "    p_est = np.vstack([pa, pv, pav])\n",
    "\n",
    "    NegLL = 0\n",
    "    for r in range(4):\n",
    "        for c in range(2):\n",
    "            NegLL -= np.log(binom.pmf(data[r, c], N_trial, p_est[r, c]))\n",
    "\n",
    "    return NegLL"
   ]
  },
  {
   "cell_type": "code",
   "execution_count": 44,
   "metadata": {},
   "outputs": [
    {
     "name": "stdout",
     "output_type": "stream",
     "text": [
      "pa: [0.1926458  0.96777303]\n",
      "pv: [0.40613832 0.60427944]\n",
      "NegLL: 14.35414112007535\n",
      "Params[-1.4329092   3.40219406 -0.37995263  0.42332844]\n"
     ]
    }
   ],
   "source": [
    "data = np.array([[1, 20], [6, 12], [6, 18], [5, 20]])\n",
    "Nparams = 4\n",
    "params0 = np.random.rand(Nparams) - 0.5\n",
    "\n",
    "options = {'maxiter': 1e5, 'disp': False}\n",
    "\n",
    "result = minimize(negative_log_likelihood, params0, args=(data,N_trial), options=options)\n",
    "\n",
    "params = result.x\n",
    "pa = np.exp(params[0:2]) / (np.exp(params[0:2]) + 1)\n",
    "pv = np.exp(params[2:4]) / (np.exp(params[2:4]) + 1)\n",
    "NegLL = result.fun\n",
    "\n",
    "print(f\"pa: {pa}\")\n",
    "print(f\"pv: {pv}\")\n",
    "print(f\"NegLL: {NegLL}\")\n",
    "print(f\"Params{params}\")"
   ]
  },
  {
   "cell_type": "code",
   "execution_count": 46,
   "metadata": {},
   "outputs": [
    {
     "name": "stdout",
     "output_type": "stream",
     "text": [
      "14.35414112007535\n"
     ]
    }
   ],
   "source": [
    "NLL=negative_log_likelihood(result.x, data, N_trials)\n",
    "print(NLL)"
   ]
  }
 ],
 "metadata": {
  "kernelspec": {
   "display_name": "base",
   "language": "python",
   "name": "python3"
  },
  "language_info": {
   "codemirror_mode": {
    "name": "ipython",
    "version": 3
   },
   "file_extension": ".py",
   "mimetype": "text/x-python",
   "name": "python",
   "nbconvert_exporter": "python",
   "pygments_lexer": "ipython3",
   "version": "3.9.13"
  }
 },
 "nbformat": 4,
 "nbformat_minor": 2
}
