{
 "cells": [
  {
   "cell_type": "code",
   "execution_count": 1,
   "metadata": {},
   "outputs": [],
   "source": [
    "import numpy as np\n",
    "from scipy.stats import norm, binom"
   ]
  },
  {
   "cell_type": "markdown",
   "metadata": {},
   "source": [
    "# 1. MLE (Early Strong Fusion Model)"
   ]
  },
  {
   "cell_type": "code",
   "execution_count": null,
   "metadata": {},
   "outputs": [],
   "source": [
    "import numpy as np\n",
    "from scipy.optimize import minimize"
   ]
  },
  {
   "cell_type": "code",
   "execution_count": 35,
   "metadata": {},
   "outputs": [],
   "source": [
    "def negLL_MLE(params, data):\n",
    "    mu_a_tilde = np.array([1,2]) - params[0]\n",
    "    mu_v_tilde = np.array([1,2]) - params[1]\n",
    "    print(f\"mu_a_tilde {mu_a_tilde}\")\n",
    "    print(f\"mu_v_tilde {mu_v_tilde}\")\n",
    "    print(f\"c_a {params[0]}\")\n",
    "    sigma_a = np.exp(params[2])\n",
    "    sigma_v = np.exp(params[3])\n",
    "    print(sigma_a)\n",
    "    print(sigma_v)\n",
    "    p_est = np.zeros((4, 2))\n",
    "\n",
    "    p_est[0, :] = norm.cdf(mu_a_tilde / sigma_a)\n",
    "    p_est[1, :] = norm.cdf(mu_v_tilde / sigma_v)\n",
    "    w_a = sigma_v**2 / (sigma_a**2 + sigma_v**2)\n",
    "    sigma_av = np.sqrt((sigma_a**2 * sigma_v**2) / (sigma_a**2 + sigma_v**2))\n",
    "\n",
    "    for a in range(2):\n",
    "        for v in range(2):\n",
    "            mu_av_tilde = w_a * mu_a_tilde[a] + (1 - w_a) * mu_v_tilde[v]\n",
    "            p_est[v + 2, a] = norm.cdf(mu_av_tilde / sigma_av)\n",
    "    print(p_est)\n",
    "    NegLL = 0\n",
    "    for r in range(4):\n",
    "        for c in range(2):\n",
    "            NegLL -= np.log(binom.pmf(data[r, c], 20, p_est[r, c]))\n",
    "\n",
    "    return NegLL"
   ]
  },
  {
   "cell_type": "code",
   "execution_count": 26,
   "metadata": {},
   "outputs": [
    {
     "name": "stderr",
     "output_type": "stream",
     "text": [
      "C:\\Users\\Usuario\\AppData\\Local\\Temp\\ipykernel_10820\\3103269676.py:24: RuntimeWarning: divide by zero encountered in log\n",
      "  NegLL -= np.log(binom.pmf(data[r, c], 20, p_est[r, c]))\n",
      "c:\\Users\\Usuario\\anaconda3\\lib\\site-packages\\scipy\\optimize\\_numdiff.py:576: RuntimeWarning: invalid value encountered in subtract\n",
      "  df = fun(x) - f0\n",
      "C:\\Users\\Usuario\\AppData\\Local\\Temp\\ipykernel_10820\\3103269676.py:24: RuntimeWarning: divide by zero encountered in log\n",
      "  NegLL -= np.log(binom.pmf(data[r, c], 20, p_est[r, c]))\n",
      "c:\\Users\\Usuario\\anaconda3\\lib\\site-packages\\scipy\\optimize\\_numdiff.py:576: RuntimeWarning: invalid value encountered in subtract\n",
      "  df = fun(x) - f0\n",
      "C:\\Users\\Usuario\\AppData\\Local\\Temp\\ipykernel_10820\\3103269676.py:24: RuntimeWarning: divide by zero encountered in log\n",
      "  NegLL -= np.log(binom.pmf(data[r, c], 20, p_est[r, c]))\n"
     ]
    },
    {
     "name": "stdout",
     "output_type": "stream",
     "text": [
      "c_a: 1.3067386537825676\n",
      "c_v: 1.6048261189683979\n",
      "sigma_a: 0.35982653362444694\n",
      "sigma_v: 1.1941965883702195\n",
      "NegLL: 13.397682943464599\n"
     ]
    }
   ],
   "source": [
    "data = np.array([[1, 20], [6, 12], [6, 18], [5, 20]])\n",
    "Nparams = 4\n",
    "params0 = np.random.rand(Nparams) - 0.5\n",
    "\n",
    "options = {'maxiter': 1e5, 'disp': False}\n",
    "\n",
    "result = minimize(negLL_MLE, params0, args=(data,), options=options)\n",
    "\n",
    "params = result.x\n",
    "c_a = params[0]\n",
    "c_v = params[1]\n",
    "sigma_a = np.exp(params[2])\n",
    "sigma_v = np.exp(params[3])\n",
    "NegLL = result.fun\n",
    "\n",
    "print(f\"c_a: {c_a}\")\n",
    "print(f\"c_v: {c_v}\")\n",
    "print(f\"sigma_a: {sigma_a}\")\n",
    "print(f\"sigma_v: {sigma_v}\")\n",
    "print(f\"NegLL: {NegLL}\")\n"
   ]
  },
  {
   "cell_type": "code",
   "execution_count": 36,
   "metadata": {},
   "outputs": [
    {
     "name": "stdout",
     "output_type": "stream",
     "text": [
      "mu_a_tilde [-0.30673865  0.69326135]\n",
      "mu_v_tilde [-0.60482612  0.39517388]\n",
      "c_a 1.3067386537825676\n",
      "0.35982653362444694\n",
      "1.1941965883702195\n",
      "[[0.1969787  0.97298864]\n",
      " [0.30626297 0.62964449]\n",
      " [0.16794121 0.95530413]\n",
      " [0.23553252 0.97382235]]\n",
      "13.397682943464599\n"
     ]
    }
   ],
   "source": [
    "NLL=negLL_MLE(params, data)\n",
    "print(NLL)"
   ]
  },
  {
   "cell_type": "markdown",
   "metadata": {},
   "source": [
    "# 2. Probability matching model"
   ]
  },
  {
   "cell_type": "code",
   "execution_count": 3,
   "metadata": {},
   "outputs": [
    {
     "name": "stdout",
     "output_type": "stream",
     "text": [
      "pa: [0.19264555 0.96777293]\n",
      "pv: [0.40613869 0.60427978]\n",
      "NegLL: 14.35414112005347\n",
      "Params[-1.43291079  3.40219066 -0.37995112  0.42332985]\n"
     ]
    }
   ],
   "source": [
    "import numpy as np\n",
    "from scipy.optimize import minimize\n",
    "from scipy.stats import binom\n",
    "\n",
    "def negLL_FLMP(params, data):\n",
    "    pa = np.exp(params[0:2]) / (np.exp(params[0:2]) + 1)\n",
    "    pv = np.exp(params[2:4]) / (np.exp(params[2:4]) + 1)\n",
    "\n",
    "    pav = np.zeros((2, 2))\n",
    "\n",
    "    for a in range(2):\n",
    "        for v in range(2):\n",
    "            pav[v, a] = pa[a] * pv[v] / (pa[a] * pv[v] + (1 - pa[a]) * (1 - pv[v]))\n",
    "\n",
    "    p_est = np.vstack([pa, pv, pav])\n",
    "\n",
    "    NegLL = 0\n",
    "    for r in range(4):\n",
    "        for c in range(2):\n",
    "            NegLL -= np.log(binom.pmf(data[r, c], 20, p_est[r, c]))\n",
    "\n",
    "    return NegLL\n",
    "\n",
    "data = np.array([[1, 20], [6, 12], [6, 18], [5, 20]])\n",
    "Nparams = 4\n",
    "params0 = np.random.rand(Nparams) - 0.5\n",
    "\n",
    "options = {'maxiter': 1e5, 'disp': False}\n",
    "\n",
    "result = minimize(negLL_FLMP, params0, args=(data,), options=options)\n",
    "\n",
    "params = result.x\n",
    "pa = np.exp(params[0:2]) / (np.exp(params[0:2]) + 1)\n",
    "pv = np.exp(params[2:4]) / (np.exp(params[2:4]) + 1)\n",
    "NegLL = result.fun\n",
    "\n",
    "print(f\"pa: {pa}\")\n",
    "print(f\"pv: {pv}\")\n",
    "print(f\"NegLL: {NegLL}\")\n",
    "print(f\"Params{params}\")\n"
   ]
  }
 ],
 "metadata": {
  "kernelspec": {
   "display_name": "base",
   "language": "python",
   "name": "python3"
  },
  "language_info": {
   "codemirror_mode": {
    "name": "ipython",
    "version": 3
   },
   "file_extension": ".py",
   "mimetype": "text/x-python",
   "name": "python",
   "nbconvert_exporter": "python",
   "pygments_lexer": "ipython3",
   "version": "3.9.13"
  }
 },
 "nbformat": 4,
 "nbformat_minor": 2
}
